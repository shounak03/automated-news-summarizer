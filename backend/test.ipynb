{
 "cells": [
  {
   "cell_type": "code",
   "execution_count": 1,
   "metadata": {},
   "outputs": [
    {
     "name": "stderr",
     "output_type": "stream",
     "text": [
      "/Users/shounak/Desktop/pyhton-test/env/lib/python3.9/site-packages/urllib3/__init__.py:35: NotOpenSSLWarning: urllib3 v2 only supports OpenSSL 1.1.1+, currently the 'ssl' module is compiled with 'LibreSSL 2.8.3'. See: https://github.com/urllib3/urllib3/issues/3020\n",
      "  warnings.warn(\n",
      "/Users/shounak/Desktop/pyhton-test/env/lib/python3.9/site-packages/tqdm/auto.py:21: TqdmWarning: IProgress not found. Please update jupyter and ipywidgets. See https://ipywidgets.readthedocs.io/en/stable/user_install.html\n",
      "  from .autonotebook import tqdm as notebook_tqdm\n"
     ]
    }
   ],
   "source": [
    "from llama_index.core import SimpleDirectoryReader\n",
    "from llama_index.core import SummaryIndex\n",
    "from llama_index.llms.groq import Groq\n",
    "from llama_index.core.node_parser import SentenceSplitter\n",
    "from llama_index.core import Document\n",
    "from llama_index.core import Settings\n",
    "from llama_index.embeddings.huggingface import HuggingFaceEmbedding\n",
    "import nest_asyncio\n",
    "import os\n",
    "from dotenv import load_dotenv\n",
    "import tempfile \n"
   ]
  },
  {
   "cell_type": "code",
   "execution_count": 9,
   "metadata": {},
   "outputs": [],
   "source": [
    "load_dotenv()\n",
    "API_KEY = os.getenv(\"API_KEY\")\n",
    "\n",
    "llm = Groq(model=\"llama-3.1-8b-instant\",api_key=API_KEY)\n",
    "Settings.llm = llm\n",
    "# Settings.embed_model = HuggingFaceEmbedding()"
   ]
  },
  {
   "cell_type": "code",
   "execution_count": 19,
   "metadata": {},
   "outputs": [],
   "source": [
    "async def summarize_text(data: str) -> str:\n",
    "        \"\"\"\n",
    "        Summarize the given text data using LlamaIndex and Groq\n",
    "        \n",
    "        Args:\n",
    "            data (str): Text content to summarize\n",
    "            \n",
    "        Returns:\n",
    "            str: Summarized text\n",
    "        \"\"\"\n",
    "        try:\n",
    "            # Create document directly from text\n",
    "            document = Document(text=data)\n",
    "            \n",
    "            # Split into nodes\n",
    "            splitter = SentenceSplitter(chunk_size=1024)\n",
    "            nodes = splitter.get_nodes_from_documents([document])\n",
    "\n",
    "            # Create and query index\n",
    "            summary_index = SummaryIndex(nodes)\n",
    "            summary_query_engine = summary_index.as_query_engine(\n",
    "                response_mode=\"tree_summarize\",\n",
    "                use_async=True\n",
    "            )\n",
    "\n",
    "            # Get response\n",
    "            response = await summary_query_engine.query(\n",
    "                \"Please provide a comprehensive summary of the main points and key details from the text.\"\n",
    "            )\n",
    "            \n",
    "            # Convert response to string explicitly\n",
    "            summary_text = str(response)\n",
    "            print(summary_text)\n",
    "            # return summary_text\n",
    "\n",
    "\n",
    "        except Exception as e:\n",
    "            print(f\"Error in summarization: {str(e)}\")\n",
    "            raise Exception(f\"Error generating summary: {str(e)}\")\n"
   ]
  },
  {
   "cell_type": "code",
   "execution_count": 20,
   "metadata": {},
   "outputs": [],
   "source": [
    "from scrape import ArticleScraper\n",
    "url = \"https://www.hindustantimes.com/india-news/article-370-electoral-bonds-cji-designate-sanjiv-khanna-was-part-of-landmark-verdicts-101729789006951.html\"\n",
    "scrapper = ArticleScraper()\n",
    "article_data = scrapper.scrape_article(url)"
   ]
  },
  {
   "cell_type": "code",
   "execution_count": 21,
   "metadata": {},
   "outputs": [
    {
     "name": "stderr",
     "output_type": "stream",
     "text": [
      "/var/folders/80/wzstjtls62j192z38xs3xhx40000gn/T/ipykernel_11496/2080139713.py:1: RuntimeWarning: coroutine 'summarize_text' was never awaited\n",
      "  resp = summarize_text(article_data['content'])\n",
      "RuntimeWarning: Enable tracemalloc to get the object allocation traceback\n"
     ]
    }
   ],
   "source": [
    "resp = summarize_text(article_data['content'])\n"
   ]
  },
  {
   "cell_type": "code",
   "execution_count": 22,
   "metadata": {},
   "outputs": [
    {
     "name": "stdout",
     "output_type": "stream",
     "text": [
      "<coroutine object summarize_text at 0x176235a40>\n"
     ]
    }
   ],
   "source": [
    "print(resp)"
   ]
  },
  {
   "cell_type": "code",
   "execution_count": null,
   "metadata": {},
   "outputs": [],
   "source": []
  }
 ],
 "metadata": {
  "kernelspec": {
   "display_name": "env",
   "language": "python",
   "name": "python3"
  },
  "language_info": {
   "codemirror_mode": {
    "name": "ipython",
    "version": 3
   },
   "file_extension": ".py",
   "mimetype": "text/x-python",
   "name": "python",
   "nbconvert_exporter": "python",
   "pygments_lexer": "ipython3",
   "version": "3.9.6"
  }
 },
 "nbformat": 4,
 "nbformat_minor": 2
}
